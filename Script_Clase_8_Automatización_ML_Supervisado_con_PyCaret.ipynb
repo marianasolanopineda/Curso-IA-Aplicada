{
  "cells": [
    {
      "cell_type": "markdown",
      "metadata": {
        "id": "view-in-github",
        "colab_type": "text"
      },
      "source": [
        "<a href=\"https://colab.research.google.com/github/CamiloVga/Curso-IA-Aplicada/blob/C%C3%B3digos/Script_Clase_8_Automatizaci%C3%B3n_ML_Supervisado_con_PyCaret.ipynb\" target=\"_parent\"><img src=\"https://colab.research.google.com/assets/colab-badge.svg\" alt=\"Open In Colab\"/></a>"
      ]
    },
    {
      "cell_type": "code",
      "execution_count": null,
      "metadata": {
        "colab": {
          "base_uri": "https://localhost:8080/"
        },
        "id": "cdD3MPoLp2rq",
        "outputId": "2a2176b7-0ea9-406a-992c-75d6066797a9"
      },
      "outputs": [
        {
          "output_type": "stream",
          "name": "stderr",
          "text": [
            "\n",
            "Processing:   0%|          | 0/65 [00:00<?, ?it/s]\u001b[A\n",
            "                                                         \n",
            "Processing:  11%|█         | 7/65 [00:07<00:56,  1.03it/s]\u001b[A\n",
            "Processing:  14%|█▍        | 9/65 [00:13<01:35,  1.70s/it]\u001b[A\n",
            "Processing:  17%|█▋        | 11/65 [00:13<01:03,  1.17s/it]\u001b[A\n",
            "Processing:  20%|██        | 13/65 [00:14<00:49,  1.05it/s]\u001b[A\n",
            "Processing:  23%|██▎       | 15/65 [00:15<00:34,  1.46it/s]\u001b[A\n",
            "Processing:  26%|██▌       | 17/65 [00:18<00:48,  1.01s/it]\u001b[A\n",
            "Processing:  29%|██▉       | 19/65 [00:18<00:33,  1.35it/s]\u001b[A\n",
            "Processing:  32%|███▏      | 21/65 [00:21<00:41,  1.07it/s]\u001b[A\n",
            "Processing:  35%|███▌      | 23/65 [00:21<00:28,  1.47it/s]\u001b[A\n",
            "Processing:  38%|███▊      | 25/65 [00:22<00:24,  1.61it/s]\u001b[A\n",
            "Processing:  42%|████▏     | 27/65 [00:22<00:17,  2.16it/s]\u001b[A\n",
            "Processing:  45%|████▍     | 29/65 [00:49<02:38,  4.39s/it]\u001b[A\n",
            "Processing:  48%|████▊     | 31/65 [00:50<01:45,  3.11s/it]\u001b[A\n",
            "Processing:  51%|█████     | 33/65 [00:51<01:17,  2.43s/it]\u001b[A\n",
            "Processing:  54%|█████▍    | 35/65 [00:52<00:51,  1.73s/it]\u001b[A\n",
            "Processing:  57%|█████▋    | 37/65 [01:01<01:13,  2.63s/it]\u001b[A\n",
            "Processing:  60%|██████    | 39/65 [01:01<00:48,  1.88s/it]\u001b[A\n",
            "Processing:  63%|██████▎   | 41/65 [01:50<03:26,  8.61s/it]\u001b[A\n",
            "Processing:  66%|██████▌   | 43/65 [01:50<02:13,  6.07s/it]\u001b[A\n",
            "Processing:  69%|██████▉   | 45/65 [01:52<01:30,  4.52s/it]\u001b[A\n",
            "Processing:  72%|███████▏  | 47/65 [01:52<00:57,  3.21s/it]\u001b[A\n",
            "Processing:  75%|███████▌  | 49/65 [02:07<01:11,  4.48s/it]\u001b[A\n",
            "Processing:  78%|███████▊  | 51/65 [02:07<00:44,  3.17s/it]\u001b[A\n",
            "Processing:  82%|████████▏ | 53/65 [02:11<00:32,  2.74s/it]\u001b[A\n",
            "Processing:  85%|████████▍ | 55/65 [02:11<00:19,  1.95s/it]\u001b[A\n",
            "Processing:  88%|████████▊ | 57/65 [02:19<00:20,  2.62s/it]\u001b[A\n",
            "Processing:  91%|█████████ | 59/65 [02:20<00:11,  1.87s/it]\u001b[A\n",
            "Processing:  94%|█████████▍| 61/65 [02:21<00:06,  1.53s/it]\u001b[A\n",
            "Processing:  97%|█████████▋| 63/65 [02:21<00:02,  1.10s/it]\u001b[A\n",
            "Processing: 100%|██████████| 65/65 [02:37<00:00,  3.07s/it]\u001b[A\n",
            "                                                           \u001b[A"
          ]
        },
        {
          "output_type": "stream",
          "name": "stdout",
          "text": [
            "                                    Model  Accuracy     AUC  Recall   Prec.  \\\n",
            "gbc          Gradient Boosting Classifier    0.8222  0.7771  0.3957  0.6648   \n",
            "lightgbm  Light Gradient Boosting Machine    0.8213  0.7761  0.3813  0.6682   \n",
            "rf               Random Forest Classifier    0.8154  0.7608  0.3940  0.6331   \n",
            "ada                  Ada Boost Classifier    0.8181  0.7604  0.4168  0.6355   \n",
            "xgboost         Extreme Gradient Boosting    0.8125  0.7601  0.3759  0.6272   \n",
            "et                 Extra Trees Classifier    0.8090  0.7538  0.3918  0.6049   \n",
            "qda       Quadratic Discriminant Analysis    0.3641  0.7304  0.9160  0.2471   \n",
            "nb                            Naive Bayes    0.4500  0.7259  0.8471  0.2666   \n",
            "lr                    Logistic Regression    0.6940  0.7238  0.6418  0.3851   \n",
            "ridge                    Ridge Classifier    0.6982  0.7222  0.6308  0.3881   \n",
            "lda          Linear Discriminant Analysis    0.6982  0.7222  0.6308  0.3881   \n",
            "svm                   SVM - Linear Kernel    0.7094  0.7162  0.5946  0.4045   \n",
            "knn                K Neighbors Classifier    0.7131  0.6907  0.5363  0.3915   \n",
            "dt               Decision Tree Classifier    0.7243  0.6159  0.4213  0.3871   \n",
            "dummy                    Dummy Classifier    0.7788  0.5000  0.0000  0.0000   \n",
            "\n",
            "              F1   Kappa     MCC  TT (Sec)  \n",
            "gbc       0.4958  0.3963  0.4161     9.718  \n",
            "lightgbm  0.4853  0.3869  0.4093     1.668  \n",
            "rf        0.4855  0.3804  0.3964     5.406  \n",
            "ada       0.5033  0.3979  0.4112     1.886  \n",
            "xgboost   0.4697  0.3645  0.3823     0.690  \n",
            "et        0.4753  0.3652  0.3781     2.974  \n",
            "qda       0.3892  0.0626  0.1336     0.330  \n",
            "nb        0.4054  0.1039  0.1680     0.194  \n",
            "lr        0.4813  0.2831  0.3018     1.442  \n",
            "ridge     0.4805  0.2845  0.3012     0.192  \n",
            "lda       0.4805  0.2845  0.3012     0.364  \n",
            "svm       0.4771  0.2891  0.3014     0.548  \n",
            "knn       0.4525  0.2645  0.2706     1.236  \n",
            "dt        0.4034  0.2246  0.2250     0.688  \n",
            "dummy     0.0000  0.0000  0.0000     0.292  \n"
          ]
        }
      ],
      "source": [
        "# Instalación de librerías (asegúrate de ejecutarlas en un entorno adecuado)\n",
        "!pip install -q pandas scikit-learn pycaret datasets\n",
        "\n",
        "# Importación de librerías\n",
        "from datasets import load_dataset\n",
        "import pandas as pd\n",
        "from pycaret.classification import *\n",
        "import warnings\n",
        "warnings.filterwarnings('ignore')\n",
        "\n",
        "# Carga de datos\n",
        "dataset = load_dataset(\"scikit-learn/credit-card-clients\", streaming=False)\n",
        "df = pd.DataFrame(dataset['train'])\n",
        "\n",
        "# Renombrar la columna objetivo (si es necesario)\n",
        "df.rename(columns={'default.payment.next.month': 'target'}, inplace=True)\n",
        "\n",
        "# Configuración de PyCaret\n",
        "clf = setup(\n",
        "    data=df,\n",
        "    target='target',                  # Variable objetivo que queremos predecir\n",
        "    session_id=42,                    # Semilla para reproducibilidad\n",
        "    fix_imbalance=True,               # Balancea clases desbalanceadas en la variable objetivo\n",
        "    normalize=True,                   # Escala las variables numéricas\n",
        "    remove_multicollinearity=True,    # Elimina variables altamente correlacionadas\n",
        "    fold=5,                           # Usa validación cruzada con 5 pliegues\n",
        "    html=False,                       # Evita generar reportes en HTML\n",
        "    verbose=False                     # Minimiza mensajes detallados en la salida\n",
        ")\n",
        "\n",
        "# Comparar modelos y mostrar la tabla de métricas\n",
        "compare_df = compare_models(sort='AUC', verbose=True)  # Ordenar por AUC (Area Under Curve)\n"
      ]
    },
    {
      "cell_type": "code",
      "source": [
        "# Mostrar tabla como DataFrame para mejor visualización\n",
        "compare_df = pull()  # Recupera la tabla generada por compare_models\n",
        "print(compare_df)    # Visualiza en consola\n"
      ],
      "metadata": {
        "colab": {
          "base_uri": "https://localhost:8080/"
        },
        "id": "09CGbjspxLW_",
        "outputId": "26018e96-4047-4630-f5d1-3990f8560cc5"
      },
      "execution_count": null,
      "outputs": [
        {
          "output_type": "stream",
          "name": "stdout",
          "text": [
            "                                    Model  Accuracy     AUC  Recall   Prec.  \\\n",
            "gbc          Gradient Boosting Classifier    0.8222  0.7771  0.3957  0.6648   \n",
            "lightgbm  Light Gradient Boosting Machine    0.8213  0.7761  0.3813  0.6682   \n",
            "rf               Random Forest Classifier    0.8154  0.7608  0.3940  0.6331   \n",
            "ada                  Ada Boost Classifier    0.8181  0.7604  0.4168  0.6355   \n",
            "xgboost         Extreme Gradient Boosting    0.8125  0.7601  0.3759  0.6272   \n",
            "et                 Extra Trees Classifier    0.8090  0.7538  0.3918  0.6049   \n",
            "qda       Quadratic Discriminant Analysis    0.3641  0.7304  0.9160  0.2471   \n",
            "nb                            Naive Bayes    0.4500  0.7259  0.8471  0.2666   \n",
            "lr                    Logistic Regression    0.6940  0.7238  0.6418  0.3851   \n",
            "ridge                    Ridge Classifier    0.6982  0.7222  0.6308  0.3881   \n",
            "lda          Linear Discriminant Analysis    0.6982  0.7222  0.6308  0.3881   \n",
            "svm                   SVM - Linear Kernel    0.7094  0.7162  0.5946  0.4045   \n",
            "knn                K Neighbors Classifier    0.7131  0.6907  0.5363  0.3915   \n",
            "dt               Decision Tree Classifier    0.7243  0.6159  0.4213  0.3871   \n",
            "dummy                    Dummy Classifier    0.7788  0.5000  0.0000  0.0000   \n",
            "\n",
            "              F1   Kappa     MCC  TT (Sec)  \n",
            "gbc       0.4958  0.3963  0.4161     9.718  \n",
            "lightgbm  0.4853  0.3869  0.4093     1.668  \n",
            "rf        0.4855  0.3804  0.3964     5.406  \n",
            "ada       0.5033  0.3979  0.4112     1.886  \n",
            "xgboost   0.4697  0.3645  0.3823     0.690  \n",
            "et        0.4753  0.3652  0.3781     2.974  \n",
            "qda       0.3892  0.0626  0.1336     0.330  \n",
            "nb        0.4054  0.1039  0.1680     0.194  \n",
            "lr        0.4813  0.2831  0.3018     1.442  \n",
            "ridge     0.4805  0.2845  0.3012     0.192  \n",
            "lda       0.4805  0.2845  0.3012     0.364  \n",
            "svm       0.4771  0.2891  0.3014     0.548  \n",
            "knn       0.4525  0.2645  0.2706     1.236  \n",
            "dt        0.4034  0.2246  0.2250     0.688  \n",
            "dummy     0.0000  0.0000  0.0000     0.292  \n"
          ]
        }
      ]
    }
  ],
  "metadata": {
    "accelerator": "GPU",
    "colab": {
      "gpuType": "T4",
      "provenance": [],
      "authorship_tag": "ABX9TyPtmWj5i8YFWl0rhVZ7db+a",
      "include_colab_link": true
    },
    "kernelspec": {
      "display_name": "Python 3",
      "name": "python3"
    },
    "language_info": {
      "name": "python"
    }
  },
  "nbformat": 4,
  "nbformat_minor": 0
}